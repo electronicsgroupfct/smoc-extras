{
 "cells": [
  {
   "cell_type": "markdown",
   "metadata": {},
   "source": [
    "# Read a DEAP Logbook \n",
    "\n",
    "Read an optimization process logbook, assuming that the [DEAP framework](https://github.com/DEAP/deap) was used.\n",
    "\n",
    "The code generates a Pandas dataframe with the logbook results, and exports the dataframe to *.csv*. It also uses the dataframe to plot graphics with the relationship between circuit variables, etc. (there are endless opportunities here :p)\n",
    "\n",
    "The last version of this document is available [here](https://github.com/mdmfernandes/smoc-extras).\n",
    "\n",
    "## Author\n",
    "\n",
    "* **Miguel Fernandes** - [mdmfernandes @ GitHub](https://github.com/mdmfernandes)"
   ]
  },
  {
   "cell_type": "markdown",
   "metadata": {
    "toc": true
   },
   "source": [
    "<h2>Table of Contents<span class=\"tocSkip\"></span></h2>\n",
    "<div class=\"toc\"><ul class=\"toc-item\"><li><span><a href=\"#Print-the-logbook-structure\" data-toc-modified-id=\"Print-the-logbook-structure-1\"><span class=\"toc-item-num\">1&nbsp;&nbsp;</span>Print the logbook structure</a></span></li><li><span><a href=\"#Get-the-circuit-design-variables\" data-toc-modified-id=\"Get-the-circuit-design-variables-2\"><span class=\"toc-item-num\">2&nbsp;&nbsp;</span>Get the circuit design variables</a></span></li><li><span><a href=\"#Define-the-dataframe-header-and-content\" data-toc-modified-id=\"Define-the-dataframe-header-and-content-3\"><span class=\"toc-item-num\">3&nbsp;&nbsp;</span>Define the dataframe header and content</a></span></li><li><span><a href=\"#Get-the-circuit-design-variables-from-the-logbook-population\" data-toc-modified-id=\"Get-the-circuit-design-variables-from-the-logbook-population-4\"><span class=\"toc-item-num\">4&nbsp;&nbsp;</span>Get the circuit design variables from the logbook population</a></span></li><li><span><a href=\"#Get-the-simulation-results-from-the-logbook\" data-toc-modified-id=\"Get-the-simulation-results-from-the-logbook-5\"><span class=\"toc-item-num\">5&nbsp;&nbsp;</span>Get the simulation results from the logbook</a></span></li></ul></div>"
   ]
  },
  {
   "cell_type": "code",
   "execution_count": 1,
   "metadata": {},
   "outputs": [],
   "source": [
    "# Imports\n",
    "%matplotlib inline\n",
    "import array\n",
    "import pickle\n",
    "import random\n",
    "import numpy as np\n",
    "import pandas as pd\n",
    "import matplotlib.pyplot as plt\n",
    "\n",
    "from deap import algorithms, base, creator, tools"
   ]
  },
  {
   "cell_type": "code",
   "execution_count": 2,
   "metadata": {},
   "outputs": [],
   "source": [
    "creator.create(\"FitnessMulti\", base.Fitness, weights=(-1.0, 1.0))\n",
    "# Define an individual\n",
    "creator.create(\"Individual\", array.array, typecode='d', fitness=creator.FitnessMulti)\n",
    "\n",
    "toolbox = base.Toolbox()\n",
    "\n",
    "# random generated float\n",
    "toolbox.register(\"attr_float\", random.uniform, 0, 1)\n",
    "# Define an individual as a list of floats (iterate over \"att_float\"\n",
    "# and place the result in \"creator.Individual\")\n",
    "toolbox.register(\"individual\", tools.initIterate, creator.Individual, toolbox.attr_float)\n",
    "# Define the population as a list of individuals (the # of individuals\n",
    "# is only defined when the population is initialized)\n",
    "toolbox.register(\"population\", tools.initRepeat, list, toolbox.individual)\n",
    "\n",
    "\n",
    "fname = \"lb_20190212_10-55.pickle\"\n",
    "\n",
    "with open(fname, 'rb') as f:\n",
    "        logbook = pickle.load(f)"
   ]
  },
  {
   "cell_type": "markdown",
   "metadata": {},
   "source": [
    "## Print the logbook structure"
   ]
  },
  {
   "cell_type": "code",
   "execution_count": 3,
   "metadata": {},
   "outputs": [],
   "source": [
    "from pprint import pprint\n",
    "\n",
    "#pprint(vars(logbook))\n"
   ]
  },
  {
   "cell_type": "markdown",
   "metadata": {},
   "source": [
    "## Get the circuit design variables"
   ]
  },
  {
   "cell_type": "code",
   "execution_count": 4,
   "metadata": {},
   "outputs": [
    {
     "ename": "SyntaxError",
     "evalue": "invalid syntax (<ipython-input-4-cd6f7aa0cf2d>, line 22)",
     "output_type": "error",
     "traceback": [
      "\u001b[0;36m  File \u001b[0;32m\"<ipython-input-4-cd6f7aa0cf2d>\"\u001b[0;36m, line \u001b[0;32m22\u001b[0m\n\u001b[0;31m    'idac': [0.1e-6, 25e-6],\u001b[0m\n\u001b[0m         ^\u001b[0m\n\u001b[0;31mSyntaxError\u001b[0m\u001b[0;31m:\u001b[0m invalid syntax\n"
     ]
    }
   ],
   "source": [
    "circuit_vars = {\n",
    "    'inv_vth': [0.3, 0.8],\n",
    "    'filt_cap': [100e-15, 50e-12],\n",
    "    'filt_len': [0.2, 0.56], \n",
    "    'filt_len_b': [0.2, 0.56], \n",
    "    'filt_len_casn': [1, 40], \n",
    "    'filt_len_casp': [1, 40], \n",
    "    'filt_res_casn': [5e3, 30e3], \n",
    "    'filt_res_casp': [5e3, 30e3], \n",
    "    'filt_res_vbp': [1e3, 10e3],\n",
    "    'filt_wn_bl': [1, 35],\n",
    "    'filt_wn_br': [1, 100],\n",
    "    'filt_wn_casn': [1, 50],\n",
    "    'filt_wn_tl': [1, 50],\n",
    "    'filt_wn_tr': [1, 150],\n",
    "    'filt_wp_bl': [1, 5],\n",
    "    'filt_wp_br': [1, 150],\n",
    "    'filt_wp_casp': [1, 50],\n",
    "    'filt_wp_tl': [1, 50], \n",
    "    'filt_wp_tr': [1, 150], \n",
    "    'filt_wp_vbp': [1, 35]\n",
    "    'idac': [0.1e-6, 25e-6],\n",
    "    'idac2': [0.1e-6, 50e-6],\n",
    "    'Cosc': [1e-15, 250e-15],\n",
    "    'osc_len_bias': [1, 20],\n",
    "    'osc_len_btm': [0.2, 0.56],\n",
    "    'osc_len_top': [0.2, 0.56],\n",
    "    'osc_wn': [1, 20],\n",
    "    'osc_wn_bb': [1, 50],\n",
    "    'osc_wn_bias': [1, 20],\n",
    "    'osc_wn_bt': [1, 50],\n",
    "    'osc_wp': [1, 50],\n",
    "    'Rbias': [1e3, 25e3],\n",
    "    'Rosc': [1e3, 50e3]\n",
    "}\n",
    "    \n",
    "circuit_vars_keys = list(circuit_vars.keys())\n",
    "print(\"VARIABLES_KEYS:\", circuit_vars_keys)"
   ]
  },
  {
   "cell_type": "markdown",
   "metadata": {},
   "source": [
    "## Define the dataframe header and content"
   ]
  },
  {
   "cell_type": "code",
   "execution_count": null,
   "metadata": {},
   "outputs": [],
   "source": [
    "df_header = ['inv_vth', 'filt_cap', 'filt_len', 'filt_len_b', 'filt_len_casn', 'filt_len_casp', 'filt_res_casn', 'filt_res_casp', 'filt_res_vbp', 'filt_wn_bl', 'filt_wn_br', 'filt_wn_casn', 'filt_wn_tl', 'filt_wn_tr', 'filt_wp_bl', 'filt_wp_br', 'filt_wp_casp', 'filt_wp_tl', 'filt_wp_tr', 'idac', 'idac2', 'Cosc', 'osc_len_bias', 'osc_len_btm', 'osc_len_top', 'osc_wn', 'osc_wn_bb', 'osc_wn_bias', 'osc_wn_bt', 'osc_wp', 'Rbias', 'Rosc', 'SINAD']\n",
    "# 'df_data' is an empty list dictionary with 'df_header' keys\n",
    "df_data = dict.fromkeys(df_header, [])\n",
    "\n",
    "df_data"
   ]
  },
  {
   "cell_type": "markdown",
   "metadata": {},
   "source": [
    "## Get the circuit design variables from the logbook population"
   ]
  },
  {
   "cell_type": "code",
   "execution_count": null,
   "metadata": {},
   "outputs": [],
   "source": [
    "population = logbook.chapters['population'].select('value')\n",
    "\n",
    "pop = []\n",
    "\n",
    "for idx, ind in enumerate(population):\n",
    "    pop.extend(ind)\n",
    "\n",
    "\n",
    "for idx, key in enumerate(circuit_vars_keys):\n",
    "    if key in df_header: # only want the ones to put in the dataframe\n",
    "        df_data[key] = [ind[idx] for ind in list(pop)] \n",
    "        \n"
   ]
  },
  {
   "cell_type": "markdown",
   "metadata": {},
   "source": [
    "## Get the simulation results from the logbook"
   ]
  },
  {
   "cell_type": "code",
   "execution_count": null,
   "metadata": {},
   "outputs": [],
   "source": [
    "results = logbook.chapters['result'].select('value')\n",
    "res = []\n",
    "\n",
    "for r in results:\n",
    "    res.extend(r)\n",
    "\n",
    "\n",
    "for ind in res:\n",
    "    print(ind)\n",
    "    for key, val in ind.items():\n",
    "        if key in df_header:\n",
    "            df_data[key].extend([val])\n",
    "            \n",
    "df_data['SINAD']"
   ]
  },
  {
   "cell_type": "code",
   "execution_count": null,
   "metadata": {},
   "outputs": [],
   "source": [
    "pd.options.display.float_format = '{:.4g}'.format\n",
    "\n",
    "dataset = pd.DataFrame(df_data)\n",
    "\n",
    "dataset.to_csv('population.csv', sep='\\t')\n",
    "\n",
    "dataset"
   ]
  },
  {
   "cell_type": "code",
   "execution_count": null,
   "metadata": {},
   "outputs": [],
   "source": [
    "dataset.describe()"
   ]
  },
  {
   "cell_type": "code",
   "execution_count": null,
   "metadata": {},
   "outputs": [],
   "source": [
    "dataset.sort_values(by=['SINAD'], ascending=False)"
   ]
  },
  {
   "cell_type": "code",
   "execution_count": null,
   "metadata": {},
   "outputs": [],
   "source": [
    "from pandas.plotting import radviz\n",
    "plt.figure(figsize=(10,10))\n",
    "radviz(dataset, 'SINAD', colormap=\"RdYlBu\")"
   ]
  },
  {
   "cell_type": "code",
   "execution_count": null,
   "metadata": {},
   "outputs": [],
   "source": [
    "ax = dataset.plot.scatter(x=\"idac\", y=\"idac2\", c='SINAD', cmap='RdYlBu', figsize=(10,10), sharex=False)\n",
    "ax.set_xlim(0, 50e-6)\n",
    "ax.set_ylim(0, 100e-6)"
   ]
  },
  {
   "cell_type": "code",
   "execution_count": null,
   "metadata": {},
   "outputs": [],
   "source": [
    "ax = dataset.plot.scatter(x=\"SINAD\", y=\"idac\", figsize=(10,10))\n",
    "ax.set_ylim(0, 50e-6)"
   ]
  }
 ],
 "metadata": {
  "kernelspec": {
   "display_name": "Python 3 (deap)",
   "language": "python",
   "name": "deap"
  },
  "language_info": {
   "codemirror_mode": {
    "name": "ipython",
    "version": 3
   },
   "file_extension": ".py",
   "mimetype": "text/x-python",
   "name": "python",
   "nbconvert_exporter": "python",
   "pygments_lexer": "ipython3",
   "version": "3.6.7"
  },
  "toc": {
   "base_numbering": 1,
   "nav_menu": {},
   "number_sections": true,
   "sideBar": true,
   "skip_h1_title": true,
   "title_cell": "Table of Contents",
   "title_sidebar": "Contents",
   "toc_cell": true,
   "toc_position": {},
   "toc_section_display": true,
   "toc_window_display": true
  }
 },
 "nbformat": 4,
 "nbformat_minor": 2
}
